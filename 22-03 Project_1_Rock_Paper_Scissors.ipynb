{
 "cells": [
  {
   "cell_type": "markdown",
   "id": "10c7113b",
   "metadata": {},
   "source": [
    "\n",
    "# Rock-Paper-Scissors - Milestone Project\n",
    "\n",
    "## Introduction\n",
    "This project will guide you through implementing a simple **Rock-Paper-Scissors** game using **Classes and Objects**. \n",
    "\n",
    "You will complete the tasks step by step, testing each part before moving to the next.\n"
   ]
  },
  {
   "cell_type": "markdown",
   "id": "369198a5",
   "metadata": {},
   "source": [
    "\n",
    "## Task 1: Create the Player Class\n",
    "\n",
    "**Instructions:**\n",
    "1. Define a class `Player` with:\n",
    "   - `name` (string) to store the player's name.\n",
    "   - `score` (integer) initialized to 0.\n",
    "   - A method `choose_move()` that asks for user input (**rock, paper, or scissors**) and returns the choice.\n",
    "2. Validate user input (must be rock, paper, or scissors).\n",
    "\n",
    "**Test Case:**\n",
    "- Create a `Player` object and call `choose_move()`.\n"
   ]
  },
  {
   "cell_type": "code",
   "execution_count": 1,
   "id": "2838669c",
   "metadata": {},
   "outputs": [],
   "source": [
    "class Player:\n",
    "    def __init__(self, name):\n",
    "          self.name=name # TODO: Initialize name and score\n",
    "          self.score=0\n",
    "    def choose_move(self):\n",
    "        while True:\n",
    "             move=input(\"Enter rock,paper,or scissors :\").lower()\n",
    "             if move in ['rock','paper','scissors']:\n",
    "                  return move\n",
    "             else:\n",
    "                  print(\"Invalid input.Please try again\") # TODO: Get valid move from user"
   ]
  },
  {
   "cell_type": "code",
   "execution_count": 2,
   "id": "7e61b79d",
   "metadata": {},
   "outputs": [
    {
     "name": "stdout",
     "output_type": "stream",
     "text": [
      "rock\n"
     ]
    }
   ],
   "source": [
    "# Test Case\n",
    "player1 = Player(\"Alice\")\n",
    "print(player1.choose_move())  # Expected: rock, paper, or scissors (user input)"
   ]
  },
  {
   "cell_type": "markdown",
   "id": "405e88a4",
   "metadata": {},
   "source": [
    "\n",
    "## Task 2: Create the Computer Class\n",
    "\n",
    "**Instructions:**\n",
    "1. Define a class `Computer` that **inherits** from `Player`.\n",
    "2. Override the `choose_move()` method to return a random choice of rock, paper, or scissors.\n",
    "\n",
    "**Test Case:**\n",
    "- Create a `Computer` object and call `choose_move()` multiple times to check randomness.\n"
   ]
  },
  {
   "cell_type": "code",
   "execution_count": 3,
   "id": "d216adf4",
   "metadata": {},
   "outputs": [],
   "source": [
    "import random\n",
    "\n",
    "class Computer(Player):\n",
    "    def __init__(self, name):\n",
    "        super().__init__(name)\n",
    "    def choose_move(self):\n",
    "        computer_choice=random.choice([\"rock\",'paper','scissors'])  # TODO: Return a random choice\n",
    "        return computer_choice"
   ]
  },
  {
   "cell_type": "code",
   "execution_count": 4,
   "id": "fcdeab2c",
   "metadata": {},
   "outputs": [
    {
     "name": "stdout",
     "output_type": "stream",
     "text": [
      "scissors\n"
     ]
    }
   ],
   "source": [
    "# Test Case\n",
    "computer = Computer(\"AI\")\n",
    "print(computer.choose_move())  # Expected: Randomly rock, paper, or scissors"
   ]
  },
  {
   "cell_type": "markdown",
   "id": "be1a3bfd",
   "metadata": {},
   "source": [
    "\n",
    "## Task 3: Implement Game Logic\n",
    "\n",
    "**Instructions:**\n",
    "1. Define a function `determine_winner(player_choice, computer_choice)`. \n",
    "2. Use game rules:\n",
    "   - Rock beats Scissors\n",
    "   - Scissors beat Paper\n",
    "   - Paper beats Rock\n",
    "3. Return \"Player wins\", \"Computer wins\", or \"It's a tie\".\n",
    "\n",
    "**Test Case:**\n",
    "- Call `determine_winner()` with different move combinations.\n"
   ]
  },
  {
   "cell_type": "code",
   "execution_count": 5,
   "id": "1b479c44",
   "metadata": {},
   "outputs": [],
   "source": [
    "def determine_winner(player_choice,computer_choice):\n",
    "    if player_choice==computer_choice:\n",
    "        return 'Its a tie'\n",
    "    elif (player_choice == \"rock\" and computer_choice == \"scissors\") or (player_choice == \"scissors\" and computer_choice == \"paper\") or (player_choice == \"paper\" and computer_choice == \"rock\"):\n",
    "        return 'Player wins'\n",
    "    else:\n",
    "        return 'Computer wins'"
   ]
  },
  {
   "cell_type": "code",
   "execution_count": 6,
   "id": "d1bcb7b2",
   "metadata": {},
   "outputs": [
    {
     "name": "stdout",
     "output_type": "stream",
     "text": [
      "Player wins\n",
      "Player wins\n",
      "Computer wins\n",
      "Its a tie\n"
     ]
    }
   ],
   "source": [
    "# Test Cases\n",
    "print(determine_winner(\"rock\", \"scissors\"))  # Expected: Player wins\n",
    "print(determine_winner(\"paper\", \"rock\"))  # Expected: Player wins\n",
    "print(determine_winner(\"scissors\", \"rock\"))  # Expected: Computer wins\n",
    "print(determine_winner(\"rock\", \"rock\")) # Expected: Tie"
   ]
  },
  {
   "cell_type": "markdown",
   "id": "89b553ff",
   "metadata": {},
   "source": [
    "\n",
    "## Task 4: Implement Game Loop\n",
    "\n",
    "**Instructions:**\n",
    "1. Create a class `Game` to manage the game.\n",
    "2. The game should:\n",
    "   - Ask the player for their move.\n",
    "   - Get the computer's move.\n",
    "   - Determine the winner.\n",
    "   - Track scores (best of 3 rounds).\n",
    "   - Ask if the player wants to play again.\n",
    "\n",
    "**Test Case:**\n",
    "- Run the game loop and check for correct scorekeeping.\n"
   ]
  },
  {
   "cell_type": "markdown",
   "id": "58f9aa5c",
   "metadata": {},
   "source": [
    "\n",
    "## Final Task: Add Replay Option\n",
    "\n",
    "**Instructions:**\n",
    "1. Modify `Game` class to ask if the user wants to play again.\n",
    "2. If yes, reset scores and start a new game.\n",
    "\n",
    "**Test Case:**\n",
    "- Run the game and test replay functionality.\n"
   ]
  },
  {
   "cell_type": "code",
   "execution_count": 7,
   "id": "6e420bfc",
   "metadata": {},
   "outputs": [
    {
     "name": "stdout",
     "output_type": "stream",
     "text": [
      "Starting a new game! First to 2 wins.\n"
     ]
    },
    {
     "name": "stdout",
     "output_type": "stream",
     "text": [
      "\n",
      "Player chose: rock\n",
      "Computer chose: scissors\n",
      "\n",
      "Player wins\n",
      "\n",
      "Score - Player: 1, Computer: 0\n",
      "\n",
      "\n",
      "Player chose: rock\n",
      "Computer chose: rock\n",
      "\n",
      "Its a tie\n",
      "\n",
      "Score - Player: 1, Computer: 0\n",
      "\n",
      "\n",
      "Player chose: rock\n",
      "Computer chose: rock\n",
      "\n",
      "Its a tie\n",
      "\n",
      "Score - Player: 1, Computer: 0\n",
      "\n",
      "\n",
      "Player chose: rock\n",
      "Computer chose: paper\n",
      "\n",
      "Computer wins\n",
      "\n",
      "Score - Player: 1, Computer: 1\n",
      "\n",
      "\n",
      "Player chose: rock\n",
      "Computer chose: rock\n",
      "\n",
      "Its a tie\n",
      "\n",
      "Score - Player: 1, Computer: 1\n",
      "\n",
      "\n",
      "Player chose: rock\n",
      "Computer chose: paper\n",
      "\n",
      "Computer wins\n",
      "\n",
      "Score - Player: 1, Computer: 2\n",
      "\n",
      "Computer wins the game!\n",
      "Thanks for playing! Goodbye!\n"
     ]
    }
   ],
   "source": [
    "class Game:\n",
    "    def __init__(self):\n",
    "        self.player = Player('ASP')\n",
    "        self.computer = Computer('COMP')\n",
    "\n",
    "    def play_round(self):\n",
    "        player_choice = self.player.choose_move()\n",
    "        computer_choice = self.computer.choose_move()\n",
    "        print(f\"\\nPlayer chose: {player_choice}\")\n",
    "        print(f\"Computer chose: {computer_choice}\\n\")\n",
    "        result = determine_winner(player_choice, computer_choice)\n",
    "        print(result)\n",
    "        if result == \"Player wins\":\n",
    "            self.player.score += 1\n",
    "        elif result == \"Computer wins\":\n",
    "            self.computer.score += 1\n",
    "\n",
    "    def play_game(self):\n",
    "        while True:\n",
    "            print(\"Starting a new game! First to 2 wins.\")\n",
    "            self.player.score = 0\n",
    "            self.computer.score = 0\n",
    "            while self.player.score < 2 and self.computer.score < 2:\n",
    "                self.play_round()\n",
    "                print(f\"\\nScore - Player: {self.player.score}, Computer: {self.computer.score}\\n\")\n",
    "            \n",
    "            if self.player.score == 2:\n",
    "                print(\"Player wins the game!\")\n",
    "            else:\n",
    "                print(\"Computer wins the game!\")\n",
    "            \n",
    "            play_again = input(\"Do you want to play another round? (yes/no): \").lower()\n",
    "            if play_again != \"yes\":\n",
    "                print(\"Thanks for playing! Goodbye!\")\n",
    "                break\n",
    "\n",
    "game = Game()\n",
    "game.play_game()\n"
   ]
  },
  {
   "cell_type": "code",
   "execution_count": null,
   "id": "d4680c3e",
   "metadata": {},
   "outputs": [],
   "source": []
  },
  {
   "cell_type": "code",
   "execution_count": null,
   "id": "d86c4c76",
   "metadata": {},
   "outputs": [],
   "source": []
  }
 ],
 "metadata": {
  "kernelspec": {
   "display_name": "Python 3",
   "language": "python",
   "name": "python3"
  },
  "language_info": {
   "codemirror_mode": {
    "name": "ipython",
    "version": 3
   },
   "file_extension": ".py",
   "mimetype": "text/x-python",
   "name": "python",
   "nbconvert_exporter": "python",
   "pygments_lexer": "ipython3",
   "version": "3.13.2"
  }
 },
 "nbformat": 4,
 "nbformat_minor": 5
}

{
 "cells": [
  {
   "cell_type": "markdown",
   "metadata": {
    "id": "77zLnpaNvNSp"
   },
   "source": [
    "## <u> Problem 1</u>\n",
    "\n",
    "### Create a class <code>Cylinder</code> which takes two attributes <code>radius</code> and <code>height</code>.\n",
    "\n",
    "### Create the following methods in this class:\n",
    "\n",
    "* ### method <code>volume()</code> which calculates the volume of the cyinder which is defined as $V  = \\pi r^2 h$\n",
    "\n",
    "* ### method <code>surface_area()</code> which calculates the area of the cyinder which is defined as $S  = 2\\pi r h$. Assume this is an open cylinder\n"
   ]
  },
  {
   "cell_type": "code",
   "execution_count": 3,
   "metadata": {
    "id": "-cWkCZ5OzX0G"
   },
   "outputs": [],
   "source": [
    "class Cylinder:\n",
    "    def __init__(self, radius, height):\n",
    "        self.radius = radius\n",
    "        self.height = height\n",
    "    def volume(self):\n",
    "     return 3.14*self.radius*self.height\n",
    "    def surface(self):\n",
    "     return 2*3.14*self.radius*self.height\n"
   ]
  },
  {
   "cell_type": "code",
   "execution_count": 18,
   "metadata": {
    "id": "tgS3mhN-18b_"
   },
   "outputs": [
    {
     "name": "stdout",
     "output_type": "stream",
     "text": [
      "volume of the cylinder:157.0\n",
      "surface of the cylinder:314.0\n"
     ]
    }
   ],
   "source": [
    "cylinder=Cylinder(5,10)\n",
    "print(f\"volume of the cylinder:{cylinder.volume()}\")\n",
    "print(f\"surface of the cylinder:{cylinder.surface()}\")"
   ]
  },
  {
   "cell_type": "markdown",
   "metadata": {
    "id": "KjPWYK0Rs8By"
   },
   "source": [
    "## <u>Problem 2</u>\n",
    "\n",
    "### You started your own money wallet where your customers can create their accounts and they can either deposit or withdraw money from this wallet.\n",
    "\n",
    "### Write a Python class <code>BankAccount</code> which takes the balance as an attribute. You can initialize the balance with 0 because any new account will have 0 rupees in their wallet. Next write two methods for your class :\n",
    "\n",
    "* #### <code>withdraw()</code> method which takes the amount to be withdrawn as an argument and returns the balance after the withdrawal\n",
    "\n",
    "* #### <code>deposit()</code> method which takes the amount to be deposited as an argument and returns the balance after the deposit.\n",
    "\n",
    "### Keep in mind that if the balance to be withdrawn exceeds the current balance, it should display a message that \"Not enough balance in your account\"\n"
   ]
  },
  {
   "cell_type": "code",
   "execution_count": 6,
   "metadata": {
    "id": "RxVZTrenzfHC"
   },
   "outputs": [],
   "source": [
    "class BankAccount:\n",
    "    def __init__(self, balance=0):\n",
    "        self.balance = balance\n",
    "    \n",
    "    def withdraw(self, amount):\n",
    "        if amount > self.balance:\n",
    "            return \"Not enough balance in your account\"\n",
    "        else:\n",
    "            self.balance -= amount\n",
    "            return f\"Withdrawal successful! Current balance: {self.balance} rupees\"\n",
    "    \n",
    "    def deposit(self, amount):\n",
    "        self.balance += amount\n",
    "        return f\"Deposit successful! Current balance: {self.balance} rupees\"\n"
   ]
  },
  {
   "cell_type": "code",
   "execution_count": 19,
   "metadata": {
    "id": "N1Yhpkiws8B3"
   },
   "outputs": [],
   "source": [
    "account = BankAccount()\n",
    "account1 = BankAccount()"
   ]
  },
  {
   "cell_type": "markdown",
   "metadata": {
    "id": "mSTxPcO3fWeX"
   },
   "source": [
    "### Next add some amount and withdraw some another amount for both the customers."
   ]
  },
  {
   "cell_type": "code",
   "execution_count": 9,
   "metadata": {
    "id": "KpMdlB5Fs8B8"
   },
   "outputs": [
    {
     "name": "stdout",
     "output_type": "stream",
     "text": [
      "Deposit successful! Current balance: 1400 rupees\n",
      "Withdrawal successful! Current balance: 900 rupees\n",
      "Withdrawal successful! Current balance: 300 rupees\n",
      "Deposit successful! Current balance: 600 rupees\n",
      "Not enough balance in your account\n"
     ]
    }
   ],
   "source": [
    "print(account.deposit(1000))\n",
    "print(account.withdraw(500))\n",
    "print(account.withdraw(600))\n",
    "print(account1.deposit(200))\n",
    "print(account1.withdraw(1000))"
   ]
  },
  {
   "cell_type": "markdown",
   "metadata": {
    "id": "5qd8g8UUs8CM"
   },
   "source": [
    "## <u>Problem 3 </u>\n",
    "\n",
    "### Create a class <code>Time </code> which takes two inputs hours and minutes to instantiate.\n",
    "*  #### Construct a method <code>DisplayTime()</code> which displays the time in AM/PM formats. For example if the input is 14 hours and 45 mins, then this method will print \"The time is 2:45 PM\". If the inputted hours exceeds 23 then print the message \"The input hours should be less than 24\" and if the inputted minutes exceeds 59 then print the message \"The input minutes should be less than 60.\" Also if the input is 12 hours 30 minutes, then the displayed time would be 12:30 PM\n",
    "* #### Construct a method <code>DisplayRatio()</code> which should display the ratio of minutes to hours. For example, (8 hours and  16 mins) should display 2. Use <code>try</code>, <code>except</code> block to account for ZeroDivisionError."
   ]
  },
  {
   "cell_type": "code",
   "execution_count": null,
   "metadata": {
    "id": "FBJy9Sq_s8CN"
   },
   "outputs": [
    {
     "name": "stdout",
     "output_type": "stream",
     "text": [
      "The time is 11:45 PM\n",
      "The ratio of minutes to hours is 1.96\n",
      "The input hours should be less than 24.\n",
      "The ratio of minutes to hours is 1.47\n",
      "The time is 12:34 PM\n",
      "The ratio of minutes to hours is 2.83\n",
      "The input minutes should be less than 60.\n",
      "The ratio of minutes to hours is 4.79\n",
      "The time is 7:20 PM\n",
      "The ratio of minutes to hours is 1.05\n",
      "The time is 2:15 AM\n",
      "The ratio of minutes to hours is 7.50\n",
      "The time is 12:10 AM\n",
      "Cannot divide by zero, hours cannot be zero.\n"
     ]
    }
   ],
   "source": [
    "# class Time:\n",
    "#     def __init__(self, hours, minutes):\n",
    "#         self.hours = hours\n",
    "#         self.minutes = minutes\n",
    "    \n",
    "#     def DisplayTime(self):\n",
    "#         if self.hours >= 24:\n",
    "#             return \"The input hours should be less than 24.\"\n",
    "#         if self.minutes >= 60:\n",
    "#             return \"The input minutes should be less than 60.\"\n",
    "#         if self.hours == 0:\n",
    "#             period = \"AM\"\n",
    "#             hour = 12\n",
    "#         elif self.hours == 12:\n",
    "#             period = \"PM\"\n",
    "#             hour = 12\n",
    "#         elif self.hours > 12:\n",
    "#             period = \"PM\"\n",
    "#             hour = self.hours - 12\n",
    "#         else:\n",
    "#             period = \"AM\"\n",
    "#             hour = self.hours\n",
    "        \n",
    "#         return f\"The time is {hour}:{self.minutes:02d} {period}\"\n",
    "\n",
    "#     def DisplayRatio(self):\n",
    "#         try:\n",
    "#             ratio = self.minutes / self.hours\n",
    "#             return f\"The ratio of minutes to hours is {ratio:.2f}\"\n",
    "#         except ZeroDivisionError:\n",
    "#             return \"Cannot divide by zero, hours cannot be zero.\"\n",
    "\n",
    "# time1 = Time(23,45)\n",
    "# print(time1.DisplayTime()) \n",
    "# print(time1.DisplayRatio()) \n",
    "\n",
    "# time2 = Time(34,50)  \n",
    "# print(time2.DisplayTime()) \n",
    "# print(time2.DisplayRatio()) \n",
    "\n",
    "# time3 = Time(12,34)  \n",
    "# print(time3.DisplayTime()) \n",
    "# print(time3.DisplayRatio()) \n",
    "\n",
    "# time4 = Time(14,67) \n",
    "# print(time4.DisplayTime()) \n",
    "# print(time4.DisplayRatio()) \n",
    "\n",
    "# time5 = Time(19,20) \n",
    "# print(time5.DisplayTime())  \n",
    "# print(time5.DisplayRatio()) \n",
    "\n",
    "# time6 = Time(2,15)\n",
    "# print(time6.DisplayTime())  \n",
    "# print(time6.DisplayRatio()) \n",
    "\n",
    "# time7 = Time(0, 10) \n",
    "# print(time7.DisplayTime())  \n",
    "# print(time7.DisplayRatio()) "
   ]
  },
  {
   "cell_type": "code",
   "execution_count": 22,
   "metadata": {},
   "outputs": [
    {
     "name": "stdout",
     "output_type": "stream",
     "text": [
      "The time is 11:45 PM\n",
      "1.9565217391304348\n",
      "The input hours should be less than 24 and 60 minutes\n",
      "1.4705882352941178\n",
      "The time is 12:34 PM\n",
      "2.8333333333333335\n",
      "The input hours should be less than 24 and 60 minutes\n",
      "4.785714285714286\n",
      "The time is 7:20 PM\n",
      "1.0526315789473684\n",
      "The time is 2:15 AM\n",
      "7.5\n",
      "The time is 12:10 AM\n",
      "Error: Hours cannot be zero\n"
     ]
    }
   ],
   "source": [
    "class Time:\n",
    "    def __init__(self, hours, minutes):\n",
    "        self.hours = hours\n",
    "        self.minutes = minutes\n",
    "    \n",
    "    def DisplayTime(self):\n",
    "        if self.hours > 23 or self.minutes > 59 :\n",
    "            return \"The input hours should be less than 24 and 60 minutes\"\n",
    "        \n",
    "        period = \"AM\"\n",
    "        display_hours = self.hours\n",
    "        \n",
    "        if self.hours >= 12:\n",
    "            period = \"PM\"\n",
    "        if self.hours > 12:\n",
    "           display_hours = self.hours - 12\n",
    "        \n",
    "        if self.hours == 0:\n",
    "            display_hours = 12\n",
    "        \n",
    "        minutes_str = str(self.minutes).zfill(2)\n",
    "        \n",
    "        return f\"The time is {display_hours}:{minutes_str} {period}\"\n",
    "    \n",
    "    def DisplayRatio(self):\n",
    "        try:\n",
    "            ratio = self.minutes / self.hours\n",
    "            return ratio\n",
    "        except ZeroDivisionError:\n",
    "            return \"Error: Hours cannot be zero\"\n",
    "        \n",
    "time1 = Time(23,45)\n",
    "print(time1.DisplayTime()) \n",
    "print(time1.DisplayRatio()) \n",
    "\n",
    "time2 = Time(34,50)  \n",
    "print(time2.DisplayTime()) \n",
    "print(time2.DisplayRatio()) \n",
    "\n",
    "time3 = Time(12,34)  \n",
    "print(time3.DisplayTime()) \n",
    "print(time3.DisplayRatio()) \n",
    "\n",
    "time4 = Time(14,67) \n",
    "print(time4.DisplayTime()) \n",
    "print(time4.DisplayRatio()) \n",
    "\n",
    "time5 = Time(19,20) \n",
    "print(time5.DisplayTime())  \n",
    "print(time5.DisplayRatio()) \n",
    "\n",
    "time6 = Time(2,15)\n",
    "print(time6.DisplayTime())  \n",
    "print(time6.DisplayRatio()) \n",
    "\n",
    "time7 = Time(0, 10) \n",
    "print(time7.DisplayTime())  \n",
    "print(time7.DisplayRatio()) "
   ]
  },
  {
   "cell_type": "code",
   "execution_count": null,
   "metadata": {
    "id": "zywXa51d6Eev"
   },
   "outputs": [],
   "source": [
    "hour_min_list = [(23,45), (34,50), (12,34), (14,67),(19,20), (2,15), (0, 10)]"
   ]
  },
  {
   "cell_type": "markdown",
   "metadata": {
    "id": "mgcu1_SAjAqF"
   },
   "source": [
    "## <u>Problem 4: Employee Management System with Exception Handling</u>\n",
    "\n",
    "**Scenario:**\n",
    "\n",
    "A company manages employees, where each employee has a name, an employee ID, and a salary. Employees can receive promotions, which increase their salary. However, if an invalid salary increment is given (such as a negative value), the system should raise an exception.\n",
    "\n",
    "**Task:**\n",
    "Create a Employee class with the following attributes and methods:\n",
    "\n",
    "    Attributes:\n",
    "    - name (str), employee_id (str), and salary (float).\n",
    "    Methods:\n",
    "    - promote(increment): Increases the salary by the given amount. If the increment is negative, raise an InvalidSalaryIncrementException.\n",
    "    - display_info(): Prints employee details.\n",
    "\n",
    "Define a custom exception *InvalidSalaryIncrementException* that is raised when an invalid salary increment is provided.\n",
    "\n",
    "**Steps to Solve:**\n",
    "- Create an `Employee` class with the required attributes.\n",
    "- Define a custom exception `InvalidSalaryIncrementException`.\n",
    "- Implement the `promote(increment)` method that validates the increment before applying it.\n",
    "- Implement `display_info()` to show employee details.\n",
    "- Write a test case where a negative salary increment is attempted, and handle the exception gracefully.\n"
   ]
  },
  {
   "cell_type": "markdown",
   "metadata": {},
   "source": [
    "### **Test Cases for Employee Management System with Exception Handling**  \n",
    "\n",
    "#### **Test Case 1: Valid Salary Increment**  \n",
    "**Input:**  \n",
    "```python\n",
    "emp = Employee(\"Alice Johnson\", \"EMP1001\", 50000)\n",
    "emp.promote(5000)\n",
    "emp.display_info()\n",
    "```\n",
    "**Expected Output:**  \n",
    "```\n",
    "Alice Johnson has been promoted! New salary: $55000.00\n",
    "Employee ID: EMP1001 | Name: Alice Johnson | Salary: $55000.00\n",
    "```\n",
    "\n",
    "---\n",
    "\n",
    "#### **Test Case 2: Invalid Salary Increment (Negative Value)**  \n",
    "**Input:**  \n",
    "```python\n",
    "emp = Employee(\"Bob Smith\", \"EMP1002\", 60000)\n",
    "try:\n",
    "    emp.promote(-3000)\n",
    "except InvalidSalaryIncrementException as e:\n",
    "    print(\"Error:\", e)\n",
    "emp.display_info()\n",
    "```\n",
    "**Expected Output:**  \n",
    "```\n",
    "Error: Invalid increment: $-3000.00. It must be positive.\n",
    "Employee ID: EMP1002 | Name: Bob Smith | Salary: $60000.00\n",
    "```\n",
    "\n",
    "---\n",
    "\n",
    "#### **Test Case 3: Multiple Promotions**  \n",
    "**Input:**  \n",
    "```python\n",
    "emp = Employee(\"Charlie Brown\", \"EMP1003\", 45000)\n",
    "emp.promote(4000)\n",
    "emp.promote(6000)\n",
    "emp.display_info()\n",
    "```\n",
    "**Expected Output:**  \n",
    "```\n",
    "Charlie Brown has been promoted! New salary: $49000.00\n",
    "Charlie Brown has been promoted! New salary: $55000.00\n",
    "Employee ID: EMP1003 | Name: Charlie Brown | Salary: $55000.00\n",
    "```\n",
    "\n",
    "---\n",
    "\n",
    "#### **Test Case 4: Zero Salary Increment**  \n",
    "**Input:**  \n",
    "```python\n",
    "emp = Employee(\"David Miller\", \"EMP1004\", 70000)\n",
    "try:\n",
    "    emp.promote(0)\n",
    "except InvalidSalaryIncrementException as e:\n",
    "    print(\"Error:\", e)\n",
    "emp.display_info()\n",
    "```\n",
    "**Expected Output:**  \n",
    "```\n",
    "Error: Invalid increment: $0.00. It must be positive.\n",
    "Employee ID: EMP1004 | Name: David Miller | Salary: $70000.00\n",
    "```\n",
    "\n",
    "---\n",
    "\n",
    "### **Summary of Test Cases**\n",
    "| **Test Case** | **Input** | **Expected Output** |\n",
    "|--------------|----------|--------------------|\n",
    "| **Valid Salary Increment** | `promote(5000)` | Salary increases successfully |\n",
    "| **Invalid Salary Increment (Negative)** | `promote(-3000)` | Exception is raised |\n",
    "| **Multiple Promotions** | `promote(4000)`, `promote(6000)` | Salary updates twice correctly |\n",
    "| **Zero Salary Increment** | `promote(0)` | Exception is raised |\n",
    "\n"
   ]
  },
  {
   "cell_type": "code",
   "execution_count": 12,
   "metadata": {},
   "outputs": [],
   "source": [
    "class InvalidSalaryIncrementException(Exception):\n",
    "    pass\n",
    "class Employee:\n",
    "    def __init__(self, name, employee_id, salary):\n",
    "        self.name = name\n",
    "        self.employee_id = employee_id\n",
    "        self.salary = salary\n",
    "\n",
    "    def promote(self, increment):\n",
    "        if increment <= 0:\n",
    "            raise InvalidSalaryIncrementException(f\"Invalid increment: ${increment:.2f}. It must be positive.\")\n",
    "        self.salary += increment\n",
    "        print(f\"{self.name} has been promoted! New salary: ${self.salary:.2f}\")\n",
    "\n",
    "    def display_info(self):\n",
    "        print(f\"Employee ID: {self.employee_id} | Name: {self.name} | Salary: ${self.salary:.2f}\")\n"
   ]
  },
  {
   "cell_type": "code",
   "execution_count": 14,
   "metadata": {},
   "outputs": [
    {
     "name": "stdout",
     "output_type": "stream",
     "text": [
      "Test Case 1:\n",
      "Alice Johnson has been promoted! New salary: $55000.00\n",
      "Employee ID: EMP1001 | Name: Alice Johnson | Salary: $55000.00\n",
      "\n",
      "Test Case 2:\n",
      "Error: Invalid increment: $-3000.00. It must be positive.\n",
      "Employee ID: EMP1002 | Name: Bob Smith | Salary: $60000.00\n",
      "\n",
      "Test Case 3:\n",
      "Charlie Brown has been promoted! New salary: $49000.00\n",
      "Charlie Brown has been promoted! New salary: $55000.00\n",
      "Employee ID: EMP1003 | Name: Charlie Brown | Salary: $55000.00\n",
      "\n",
      "Test Case 4:\n",
      "Error: Invalid increment: $0.00. It must be positive.\n",
      "Employee ID: EMP1004 | Name: David Miller | Salary: $70000.00\n"
     ]
    }
   ],
   "source": [
    "print(\"Test Case 1:\")\n",
    "emp1 = Employee(\"Alice Johnson\", \"EMP1001\", 50000)\n",
    "emp1.promote(5000)\n",
    "emp1.display_info()\n",
    "print()\n",
    "\n",
    "print(\"Test Case 2:\")\n",
    "emp2 = Employee(\"Bob Smith\", \"EMP1002\", 60000)\n",
    "try:\n",
    "    emp2.promote(-3000)\n",
    "except InvalidSalaryIncrementException as e:\n",
    "    print(\"Error:\", e)\n",
    "emp2.display_info()\n",
    "print()\n",
    "\n",
    "print(\"Test Case 3:\")\n",
    "emp3 = Employee(\"Charlie Brown\", \"EMP1003\", 45000)\n",
    "emp3.promote(4000)\n",
    "emp3.promote(6000)\n",
    "emp3.display_info()\n",
    "print()\n",
    "\n",
    "print(\"Test Case 4:\")\n",
    "emp4 = Employee(\"David Miller\", \"EMP1004\", 70000)\n",
    "try:\n",
    "    emp4.promote(0)\n",
    "except InvalidSalaryIncrementException as e:\n",
    "    print(\"Error:\", e)\n",
    "emp4.display_info()\n"
   ]
  },
  {
   "cell_type": "code",
   "execution_count": null,
   "metadata": {},
   "outputs": [],
   "source": []
  }
 ],
 "metadata": {
  "colab": {
   "provenance": []
  },
  "kernelspec": {
   "display_name": "Python 3",
   "language": "python",
   "name": "python3"
  },
  "language_info": {
   "codemirror_mode": {
    "name": "ipython",
    "version": 3
   },
   "file_extension": ".py",
   "mimetype": "text/x-python",
   "name": "python",
   "nbconvert_exporter": "python",
   "pygments_lexer": "ipython3",
   "version": "3.13.2"
  }
 },
 "nbformat": 4,
 "nbformat_minor": 1
}
